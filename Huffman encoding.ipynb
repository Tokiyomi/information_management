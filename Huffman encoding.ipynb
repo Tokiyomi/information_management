{
 "cells": [
  {
   "cell_type": "markdown",
   "metadata": {},
   "source": [
    "### Carolina Garma Escoffié"
   ]
  },
  {
   "cell_type": "markdown",
   "metadata": {},
   "source": [
    "## Counting characters function"
   ]
  },
  {
   "cell_type": "code",
   "execution_count": 1,
   "metadata": {},
   "outputs": [],
   "source": [
    "def count_characters(string):\n",
    "    diccionario = dict.fromkeys(string, 0)\n",
    "    for char in string:\n",
    "        diccionario[char] += 1 # access to the dict by key and sum 1\n",
    "    return diccionario"
   ]
  },
  {
   "cell_type": "code",
   "execution_count": 2,
   "metadata": {},
   "outputs": [
    {
     "data": {
      "text/plain": [
       "{'h': 1, 'o': 1, 'l': 1, 'a': 1, ' ': 4, '!': 1, '?': 1, '&': 1, ',': 1}"
      ]
     },
     "execution_count": 2,
     "metadata": {},
     "output_type": "execute_result"
    }
   ],
   "source": [
    "count_characters('hola ! ? &, ')"
   ]
  },
  {
   "cell_type": "markdown",
   "metadata": {},
   "source": [
    "## Instance"
   ]
  },
  {
   "cell_type": "code",
   "execution_count": 3,
   "metadata": {},
   "outputs": [],
   "source": [
    "text=\"Empty spaces, what are we living for? Abandoned places, I guess we know the score, on and on Does anybody know what we are looking for? Another hero, another mindless crime Behind the curtain, in the pantomime Hold the line Does anybody want to take it anymore? The show must go on The show must go on, yeah Inside my heart is breaking My makeup may be flaking But my smile, still, stays on Whatever happens, I'll leave it all to chance Another heartache, another failed romance, on and on Does anybody know what we are living for? I guess I'm learning I must be warmer now I'll soon be turning, round the corner now Outside the dawn is breaking But inside in the dark I'm aching to be free The show must go on The show must go on Inside my heart is breaking My makeup may be flaking But my smile, still, stays on My soul is painted like the wings of butterflies Fairy tales of yesterday, grow but never die I can fly, my friends The show must go on The show must go on I'll face it with a grin I'm never giving in On with the show I'll top the bill I'll overkill I have to find the will to carry on On with the show Show Show must go on, go on, go on, go on, go on, go on, go on, go on\""
   ]
  },
  {
   "cell_type": "code",
   "execution_count": 4,
   "metadata": {},
   "outputs": [
    {
     "data": {
      "text/plain": [
       "\"Empty spaces, what are we living for? Abandoned places, I guess we know the score, on and on Does anybody know what we are looking for? Another hero, another mindless crime Behind the curtain, in the pantomime Hold the line Does anybody want to take it anymore? The show must go on The show must go on, yeah Inside my heart is breaking My makeup may be flaking But my smile, still, stays on Whatever happens, I'll leave it all to chance Another heartache, another failed romance, on and on Does anybody know what we are living for? I guess I'm learning I must be warmer now I'll soon be turning, round the corner now Outside the dawn is breaking But inside in the dark I'm aching to be free The show must go on The show must go on Inside my heart is breaking My makeup may be flaking But my smile, still, stays on My soul is painted like the wings of butterflies Fairy tales of yesterday, grow but never die I can fly, my friends The show must go on The show must go on I'll face it with a grin I'm never giving in On with the show I'll top the bill I'll overkill I have to find the will to carry on On with the show Show Show must go on, go on, go on, go on, go on, go on, go on, go on\""
      ]
     },
     "execution_count": 4,
     "metadata": {},
     "output_type": "execute_result"
    }
   ],
   "source": [
    "text"
   ]
  },
  {
   "cell_type": "markdown",
   "metadata": {},
   "source": [
    "## Frequency list"
   ]
  },
  {
   "cell_type": "code",
   "execution_count": 5,
   "metadata": {},
   "outputs": [
    {
     "data": {
      "text/plain": [
       "{'E': 1,\n",
       " 'H': 1,\n",
       " 'W': 1,\n",
       " 'F': 1,\n",
       " 'S': 2,\n",
       " 'A': 3,\n",
       " 'D': 3,\n",
       " 'M': 3,\n",
       " 'O': 3,\n",
       " '?': 4,\n",
       " 'B': 4,\n",
       " 'T': 6,\n",
       " \"'\": 8,\n",
       " 'v': 9,\n",
       " 'p': 10,\n",
       " 'c': 14,\n",
       " 'f': 14,\n",
       " 'b': 15,\n",
       " 'I': 15,\n",
       " 'k': 15,\n",
       " 'u': 22,\n",
       " ',': 23,\n",
       " 'd': 23,\n",
       " 'y': 26,\n",
       " 'm': 30,\n",
       " 'w': 31,\n",
       " 'g': 32,\n",
       " 'l': 41,\n",
       " 'r': 43,\n",
       " 'h': 50,\n",
       " 's': 53,\n",
       " 'i': 56,\n",
       " 'a': 58,\n",
       " 't': 63,\n",
       " 'n': 81,\n",
       " 'o': 87,\n",
       " 'e': 96,\n",
       " ' ': 239}"
      ]
     },
     "execution_count": 5,
     "metadata": {},
     "output_type": "execute_result"
    }
   ],
   "source": [
    "frecuencia = count_characters(text)\n",
    "{k: v for k, v in sorted(frecuencia.items(), key=lambda item: item[1])}"
   ]
  },
  {
   "cell_type": "markdown",
   "metadata": {},
   "source": [
    "## Probabilities"
   ]
  },
  {
   "cell_type": "code",
   "execution_count": 6,
   "metadata": {},
   "outputs": [
    {
     "name": "stdout",
     "output_type": "stream",
     "text": [
      "1186\n"
     ]
    }
   ],
   "source": [
    "# Total number of characters\n",
    "count=0\n",
    "for key in frecuencia:\n",
    "    count+=frecuencia[key]\n",
    "print(count) "
   ]
  },
  {
   "cell_type": "code",
   "execution_count": 7,
   "metadata": {},
   "outputs": [
    {
     "data": {
      "text/plain": [
       "{'E': 0.0008431703204047217,\n",
       " 'm': 0.025295109612141653,\n",
       " 'p': 0.008431703204047217,\n",
       " 't': 0.05311973018549747,\n",
       " 'y': 0.021922428330522766,\n",
       " ' ': 0.2015177065767285,\n",
       " 's': 0.04468802698145025,\n",
       " 'a': 0.048903878583473864,\n",
       " 'c': 0.011804384485666104,\n",
       " 'e': 0.08094435075885328,\n",
       " ',': 0.0193929173693086,\n",
       " 'w': 0.026138279932546374,\n",
       " 'h': 0.04215851602023609,\n",
       " 'r': 0.03625632377740304,\n",
       " 'l': 0.03456998313659359,\n",
       " 'i': 0.047217537942664416,\n",
       " 'v': 0.007588532883642495,\n",
       " 'n': 0.06829679595278246,\n",
       " 'g': 0.026981450252951095,\n",
       " 'f': 0.011804384485666104,\n",
       " 'o': 0.0733558178752108,\n",
       " '?': 0.003372681281618887,\n",
       " 'A': 0.002529510961214165,\n",
       " 'b': 0.012647554806070826,\n",
       " 'd': 0.0193929173693086,\n",
       " 'I': 0.012647554806070826,\n",
       " 'u': 0.01854974704890388,\n",
       " 'k': 0.012647554806070826,\n",
       " 'D': 0.002529510961214165,\n",
       " 'B': 0.003372681281618887,\n",
       " 'H': 0.0008431703204047217,\n",
       " 'T': 0.00505902192242833,\n",
       " 'M': 0.002529510961214165,\n",
       " 'W': 0.0008431703204047217,\n",
       " \"'\": 0.006745362563237774,\n",
       " 'O': 0.002529510961214165,\n",
       " 'F': 0.0008431703204047217,\n",
       " 'S': 0.0016863406408094434}"
      ]
     },
     "execution_count": 7,
     "metadata": {},
     "output_type": "execute_result"
    }
   ],
   "source": [
    "probabilities=dict.fromkeys(text,0)\n",
    "for key in frecuencia:\n",
    "    probabilities[key]=frecuencia[key]/count\n",
    "probabilities # Show probabilities"
   ]
  },
  {
   "cell_type": "code",
   "execution_count": 8,
   "metadata": {},
   "outputs": [
    {
     "data": {
      "text/plain": [
       "0.9999999999999999"
      ]
     },
     "execution_count": 8,
     "metadata": {},
     "output_type": "execute_result"
    }
   ],
   "source": [
    "total=0\n",
    "for key in probabilities:\n",
    "    total+=probabilities[key]\n",
    "total # Sum must be 1"
   ]
  },
  {
   "cell_type": "markdown",
   "metadata": {},
   "source": [
    "## Huffman encoding"
   ]
  },
  {
   "cell_type": "code",
   "execution_count": 9,
   "metadata": {},
   "outputs": [],
   "source": [
    "def encode(nodes, label, result, prefix = ''):  \n",
    "    \"\"\"\n",
    "    Recursive function unction that creates the binary tree for the keys \n",
    "    OUTPUT EXAMPLE: {'0': {'0':'x', '1':'y'} , '1':'z'} \n",
    "    \"\"\"\n",
    "    childs = nodes[label]  # Acces to the childs labels of the given node\n",
    "    \n",
    "    tree = {} # Initialize binary tree as a dict\n",
    "    \n",
    "    if len(childs) == 2: # If the node has two children, start recurssion\n",
    "        tree['0'] = encode(nodes, childs[0], result, prefix+'0') # left is 0\n",
    "        tree['1'] = encode(nodes, childs[1], result, prefix+'1') # Right is 1 \n",
    "        return tree # When recurssion ends, return the whole tree\n",
    "    \n",
    "    else:\n",
    "        result[label] = prefix # If they are now leafs, assign the final prefix\n",
    "        return label # Return the resultant label of the recurssion"
   ]
  },
  {
   "cell_type": "code",
   "execution_count": 10,
   "metadata": {},
   "outputs": [],
   "source": [
    "def huffman(frequency_dict): # Receives an unsorted key frequency dictionary\n",
    "    \n",
    "    frequency_dict_copy = frequency_dict.copy() # Make a copy of the dict\n",
    "    \n",
    "    nodes = {} # nodes dict\n",
    "    \n",
    "    for label in frequency_dict_copy.keys(): # Leafs initialization, each label in keys-list will be a node\n",
    "        \n",
    "        nodes[label] = [] # Create a key-value node where key=label and value=[]\n",
    "\n",
    "    while len(frequency_dict_copy) > 1: # binary tree creation\n",
    "        \n",
    "        frequency_dict_list = sorted(frequency_dict_copy.items(), key=lambda x:x[1]) # Create a sorted list by value (frequency)\n",
    "        \n",
    "        a1 = frequency_dict_list[0][0] # Smallest frequency label\n",
    "        \n",
    "        a2 = frequency_dict_list[1][0] # 2nd Smallest frequency label\n",
    "        \n",
    "        frequency_dict_copy[a1+a2] = frequency_dict_copy.pop(a1) + frequency_dict_copy.pop(a2) # Create a father with the sum of both popped children values\n",
    "        \n",
    "        nodes[a1+a2] = [a1, a2] # Create a node: label=join of both children, value=children original labels list\n",
    "        \n",
    "    code = {} # Initialize encoding\n",
    "    \n",
    "    root = a1+a2 # Final root with all the joined nodes\n",
    "    \n",
    "    tree = {} # Initialize tree\n",
    "    \n",
    "    tree = encode(nodes, root, code)   # recursive assignment of the code for the given binary tree    \n",
    "    \n",
    "    return code, tree # Return final enconding"
   ]
  },
  {
   "cell_type": "markdown",
   "metadata": {},
   "source": [
    "## Encoding the song"
   ]
  },
  {
   "cell_type": "code",
   "execution_count": 11,
   "metadata": {},
   "outputs": [],
   "source": [
    "code, tree = huffman(frecuencia)"
   ]
  },
  {
   "cell_type": "code",
   "execution_count": 12,
   "metadata": {},
   "outputs": [
    {
     "data": {
      "text/plain": [
       "{' ': '00',\n",
       " 'a': '0100',\n",
       " 'c': '010100',\n",
       " 'f': '010101',\n",
       " 'm': '01011',\n",
       " 'b': '011000',\n",
       " 'I': '011001',\n",
       " 'w': '01101',\n",
       " 't': '0111',\n",
       " 'k': '100000',\n",
       " \"'\": '1000010',\n",
       " 'B': '10000110',\n",
       " 'S': '100001110',\n",
       " 'E': '1000011110',\n",
       " 'H': '1000011111',\n",
       " 'g': '10001',\n",
       " 'n': '1001',\n",
       " 'l': '10100',\n",
       " 'v': '1010100',\n",
       " 'p': '1010101',\n",
       " 'u': '101011',\n",
       " 'o': '1011',\n",
       " 'r': '11000',\n",
       " ',': '110010',\n",
       " 'd': '110011',\n",
       " 'e': '1101',\n",
       " 'h': '11100',\n",
       " 'W': '1110100000',\n",
       " 'F': '1110100001',\n",
       " 'A': '111010001',\n",
       " 'T': '11101001',\n",
       " 'D': '111010100',\n",
       " 'M': '111010101',\n",
       " 'O': '111010110',\n",
       " '?': '111010111',\n",
       " 'y': '111011',\n",
       " 's': '11110',\n",
       " 'i': '11111'}"
      ]
     },
     "execution_count": 12,
     "metadata": {},
     "output_type": "execute_result"
    }
   ],
   "source": [
    "code # clave"
   ]
  },
  {
   "cell_type": "code",
   "execution_count": 13,
   "metadata": {},
   "outputs": [
    {
     "data": {
      "text/plain": [
       "{'0': {'0': ' ',\n",
       "  '1': {'0': {'0': 'a', '1': {'0': {'0': 'c', '1': 'f'}, '1': 'm'}},\n",
       "   '1': {'0': {'0': {'0': 'b', '1': 'I'}, '1': 'w'}, '1': 't'}}},\n",
       " '1': {'0': {'0': {'0': {'0': {'0': 'k',\n",
       "      '1': {'0': \"'\",\n",
       "       '1': {'0': 'B', '1': {'0': 'S', '1': {'0': 'E', '1': 'H'}}}}},\n",
       "     '1': 'g'},\n",
       "    '1': 'n'},\n",
       "   '1': {'0': {'0': 'l', '1': {'0': {'0': 'v', '1': 'p'}, '1': 'u'}},\n",
       "    '1': 'o'}},\n",
       "  '1': {'0': {'0': {'0': 'r', '1': {'0': ',', '1': 'd'}}, '1': 'e'},\n",
       "   '1': {'0': {'0': 'h',\n",
       "     '1': {'0': {'0': {'0': {'0': {'0': 'W', '1': 'F'}, '1': 'A'}, '1': 'T'},\n",
       "       '1': {'0': {'0': 'D', '1': 'M'}, '1': {'0': 'O', '1': '?'}}},\n",
       "      '1': 'y'}},\n",
       "    '1': {'0': 's', '1': 'i'}}}}}"
      ]
     },
     "execution_count": 13,
     "metadata": {},
     "output_type": "execute_result"
    }
   ],
   "source": [
    "tree"
   ]
  },
  {
   "cell_type": "markdown",
   "metadata": {},
   "source": [
    "## Encoded file"
   ]
  },
  {
   "cell_type": "code",
   "execution_count": 14,
   "metadata": {},
   "outputs": [],
   "source": [
    "def encode_text(text,code):\n",
    "    encoded = ''.join([code[t] for t in text])\n",
    "    return(encoded)"
   ]
  },
  {
   "cell_type": "code",
   "execution_count": 15,
   "metadata": {},
   "outputs": [
    {
     "name": "stdout",
     "output_type": "stream",
     "text": [
      "Encoded text:\n",
      "10000111100101110101010111111011001111010101010100010100110111110110010000110111100010001110001001100011010001101110100101001111110101001111110011000100010101101111000111010111001110100010110000100100111001110111001110111001100101010110100010001010011011111011001000011001001000110101111011111011110000110111010010000010011011011010001111110011010011110010100101111000110111001000101110010001001001110011001011100100111010100101111011111000010010011110110110001011110011111011001000001001101101101000110111100010001110001101110100010011000110100101001011101110000011111100110001000101011011110001110101110011101000110011011011111100110111000001110011011100010111100100001001001101101111110011011100000010111111110011100111010011011111011110000101001100011111010111101001000011011011110011111100111001100011111100110100010100101011110000111010011111100111001000111111001000111111001101001010101010010010111101101011111110101111010010000111111011101001100110001111110011010010100111111001110100111010100101111011111000010010011110110110001011110011111011000110101001001011100011110110001110100100000110100111110111000100100111101101011101111000110111101011100111010011110011010011110111001011011010001011101011111100111001000110110010111001001110100111100110100111101110010110110100010111010111111001110010001101100101110011100100011101111010100111000001100110011111011111110011110100010111110110011100110101001100001110011111111100001100011000110101001000001111110011000100111010101111011000101101001000001101101011101010100010110100111011000110001101000101011010001001000001111110011000100100001101010110111000101111101100111100101111111101001101110010001111001111111110100101001100100011110011101001110111111000101110010011101000001110001000111110110101001101110000011100010010101011010101110110011111011001000011001100001010100101000010100110101001010100110100111110111000100101001010000011110110001010011100010010010101001101001110100011001101101111110011011100000111001101010011000011101000101001110011011100100001001001101101111110011011100000010101010011111101001101110011001100010110101101001001010100110111001000101110010001001001110011001011100100111010100101111011111000010010011110110110001011110011111011001000001001101101101000110111100010001110001101110100010011000110100101001111110101001111110011000100010101101111000111010111000110010010001101011110111110111100001100110000100101100101001101010011000100111111100110001000110010001011101011111100111000110001101000110101001100001011110111000001001101101101000110011000010101001010000111101011101110010001100011010001111010111100010011111110011000111001000110001011101011100111001100011111100110100010100101111000100111011100000100110110110100111010110101011011111110111111100111101000111111001101001100110100011011001001111111110000110001100011010100100000111111001100010010000110101011011100111111001111101111111001111010011111100100011111100110100110011010011000100000000110011000010010110001000101001110011111100110001000111101100011000110100010101110001101110100111010011110011010011110111001011011010001011101011111100111001000110110010111001001110100111100110100111101110010110110100010111010111111001110010001101100101110010001100110011111011111110011110100010111110110011100110101001100001110011111111100001100011000110101001000001111110011000100111010101111011000101101001000001101101011101010100010110100111011000110001101000101011010001001000001111110011000100100001101010110111000101111101100111100101111111101001101110010001111001111111110100101001100100011110011101001110111111000101110010011101010111101100111101011101011101000011111111100010101010100111111001011111011100110010100111111000001101000111111001101000110111111100110001111100010110101010001100010101101110111110111000010101101001111111011111000111010000101001111111000111011000111010010100110111110001011010101001110111101111100111110111000110011010011101111001000100011100010110110100011000101011011100100111011010100110111000001100111111111010001100100010100010010010001010110100111011110010000101111101100010101110001111111011001110011111100011101001111001101001111011100101101101000101110101111110011100100011011001011100100111010011110011010011110111001011011010001011101011111100111001000110110010111001000110011000010101001010000010101010001010011010011111011100011011111101111110000010000100011100011111100100011001100001001011001001110110101001101110000010001111111010100111111001100010011111100100111010110100100011011111101111110000011111100110100111101110010110110100011001100001010100101000001111011101010100011111100110100011000111111010010100000110011000010101001010000101110101001101110001000001111110100101000001100100111000100101010011010001111011000101011111110011100110001111110011010001101111111010010100000111101100010100010011000110001110110010111001001110101101001000110111111011111100000111111001101001111011100101101101001000011101110010110110100100001110111001011011010001011101011111100111001000110110010111001110010001000110110010111001110010001000110110010111001110010001000110110010111001110010001000110110010111001110010001000110110010111001110010001000110110010111001110010001000110110010111001\n"
     ]
    }
   ],
   "source": [
    "encoded_text=encode_text(text,code)\n",
    "print('Encoded text:')\n",
    "print(encoded_text)"
   ]
  },
  {
   "cell_type": "markdown",
   "metadata": {},
   "source": [
    "## Decoding the song"
   ]
  },
  {
   "cell_type": "code",
   "execution_count": 16,
   "metadata": {},
   "outputs": [],
   "source": [
    "def decoding(encoded_text, tree):\n",
    "    \n",
    "    decoded = [] # Empty decoded string list\n",
    "    i = 0 # index counter\n",
    "    \n",
    "    while i < len(encoded_text): # decoding using the binary tree search\n",
    "        children = encoded_text[i]  \n",
    "        level = tree[children] # Accessing to the levels\n",
    "        \n",
    "        while (type(level)!=str): # While level != string, do DST\n",
    "            i += 1 \n",
    "            children = encoded_text[i] # Accessing to the next level\n",
    "            level = level[children] \n",
    "            \n",
    "        decoded.append(level) # Add the decoded string to the list     \n",
    "        i += 1 # Start with the next binary sequence\n",
    "    \n",
    "    return ''.join(decoded)"
   ]
  },
  {
   "cell_type": "code",
   "execution_count": 17,
   "metadata": {},
   "outputs": [
    {
     "name": "stdout",
     "output_type": "stream",
     "text": [
      "Decoded text:\n",
      "Empty spaces, what are we living for? Abandoned places, I guess we know the score, on and on Does anybody know what we are looking for? Another hero, another mindless crime Behind the curtain, in the pantomime Hold the line Does anybody want to take it anymore? The show must go on The show must go on, yeah Inside my heart is breaking My makeup may be flaking But my smile, still, stays on Whatever happens, I'll leave it all to chance Another heartache, another failed romance, on and on Does anybody know what we are living for? I guess I'm learning I must be warmer now I'll soon be turning, round the corner now Outside the dawn is breaking But inside in the dark I'm aching to be free The show must go on The show must go on Inside my heart is breaking My makeup may be flaking But my smile, still, stays on My soul is painted like the wings of butterflies Fairy tales of yesterday, grow but never die I can fly, my friends The show must go on The show must go on I'll face it with a grin I'm never giving in On with the show I'll top the bill I'll overkill I have to find the will to carry on On with the show Show Show must go on, go on, go on, go on, go on, go on, go on, go on\n"
     ]
    }
   ],
   "source": [
    "decoded=decoding(encoded_text, tree)\n",
    "print('Decoded text:')\n",
    "print(decoded)"
   ]
  },
  {
   "cell_type": "markdown",
   "metadata": {},
   "source": [
    "## Number of bits"
   ]
  },
  {
   "cell_type": "markdown",
   "metadata": {},
   "source": [
    "#### Normal encoding"
   ]
  },
  {
   "cell_type": "code",
   "execution_count": 18,
   "metadata": {},
   "outputs": [
    {
     "data": {
      "text/plain": [
       "9488"
      ]
     },
     "execution_count": 18,
     "metadata": {},
     "output_type": "execute_result"
    }
   ],
   "source": [
    "len(text)*8 # Bites in normal encoding"
   ]
  },
  {
   "cell_type": "markdown",
   "metadata": {},
   "source": [
    "#### Huffman encoding"
   ]
  },
  {
   "cell_type": "code",
   "execution_count": 19,
   "metadata": {},
   "outputs": [],
   "source": [
    "def count_bin_bits(frecuencia, clave):\n",
    "    count=0 # bits counter\n",
    "    for key in frecuencia:\n",
    "        count+=frecuencia[key]*len(clave[key])\n",
    "    return count"
   ]
  },
  {
   "cell_type": "code",
   "execution_count": 20,
   "metadata": {},
   "outputs": [
    {
     "data": {
      "text/plain": [
       "5171"
      ]
     },
     "execution_count": 20,
     "metadata": {},
     "output_type": "execute_result"
    }
   ],
   "source": [
    "count_bin_bits(frecuencia, code)"
   ]
  },
  {
   "cell_type": "markdown",
   "metadata": {},
   "source": [
    "## By-hand enconding"
   ]
  },
  {
   "cell_type": "markdown",
   "metadata": {},
   "source": [
    "Using my by-hand encoding, I also got 5171 bits for the encoded song. Let's see if my \"clave\" dict also encodes and decodes well.."
   ]
  },
  {
   "cell_type": "markdown",
   "metadata": {},
   "source": [
    "<img src=\"my_binary_tree.jpg\">"
   ]
  },
  {
   "cell_type": "code",
   "execution_count": 21,
   "metadata": {},
   "outputs": [],
   "source": [
    "my_tree= {'0': {'0': ' ',\n",
    "                '1': {'0': {'0': {'0': {'0': 'c', '1': 'f'}, '1': 'm'}, '1': 'a'},\n",
    "                      '1': {'0': {'0': {'0': 'I', '1': 'b'}, '1': 'w'}, '1':'t'}}},\n",
    "          '1':  {'0': {'0': {'0': {'0': {'0': 'k', '1': {'0': {'0': 'B', '1': {'0': 'S', '1': {'0': 'E', '1': 'H'}}}, '1': \"'\"}}, '1': 'g'}, '1': 'n'},\n",
    "                       '1': {'0': {'0': 'l', '1': {'0': {'0': 'v', '1': 'p'}, '1': 'u'}}, '1': 'o'}},\n",
    "                 '1': {'0': {'0': {'0': 'r', '1': {'0': ',', '1': 'd'}}, '1': 'e'},\n",
    "                       '1':  {'0': {'0': 'h', '1': {'0': {'0': {'0': 'T', '1': {'0': {'0': 'W', '1': 'F'}, '1':'A'}},\n",
    "                                                          '1': {'0': {'0': 'D', '1': 'M'},\n",
    "                                                                '1': {'0': 'O', '1': '?'}}},\n",
    "                                                   '1': 'y'}},\n",
    "                              '1': {'0': 's', '1': 'i'}}}}}"
   ]
  },
  {
   "cell_type": "code",
   "execution_count": 22,
   "metadata": {},
   "outputs": [],
   "source": [
    "mi_clave = {\n",
    "    'E':'1000010110',\n",
    "    'H':'1000010111',\n",
    "    'W':'1110100100',\n",
    "    'F':'1110100101',\n",
    "    'S':'100001010',\n",
    "    'A':'111010011',\n",
    "    'D':'111010100',\n",
    "    'M':'111010101',\n",
    "    'O':'111010110',\n",
    "    '?':'111010111',\n",
    "    'B':'10000100',\n",
    "    'T':'11101000',\n",
    "    \"'\":'1000011',\n",
    "    'v':'1010100',\n",
    "    'p':'1010101',\n",
    "    'c':'010000',\n",
    "    'f':'010001',\n",
    "    'b':'011001',\n",
    "    'I':'011000',\n",
    "    'k':'100000',\n",
    "    'u':'101011',\n",
    "    ',':'110010',\n",
    "    'd':'110011',\n",
    "    'y':'111011',\n",
    "    'm':'01001',\n",
    "    'w':'01101',\n",
    "    'g':'10001',\n",
    "    'l':'10100',\n",
    "    'r':'11000',\n",
    "    'h':'11100',\n",
    "    's':'11110',\n",
    "    'i':'11111',\n",
    "    'a':'0101',\n",
    "    't':'0111',\n",
    "    'n':'1001',\n",
    "    'o':'1011',\n",
    "    'e':'1101',\n",
    "    ' ':'00'   \n",
    "}"
   ]
  },
  {
   "cell_type": "code",
   "execution_count": 23,
   "metadata": {},
   "outputs": [
    {
     "data": {
      "text/plain": [
       "5171"
      ]
     },
     "execution_count": 23,
     "metadata": {},
     "output_type": "execute_result"
    }
   ],
   "source": [
    "count_bin_bits(frecuencia, mi_clave)"
   ]
  },
  {
   "cell_type": "code",
   "execution_count": 24,
   "metadata": {},
   "outputs": [
    {
     "data": {
      "text/plain": [
       "'10000101100100110101010111111011001111010101010101010000110111110110010000110111100010101110001011100011010001101110100101001111110101001111110011000100010001101111000111010111001110100110110010101100111001110111001110111001100101010110100010101000011011111011001000011000001000110101111011111011110000110111010010000010011011011010001111110011010011110010000101111000110111001000101110010001011001110011001011100100111010100101111011111000010110011110110110011011110011111011001000001001101101101000110111100010101110001101110100010111000110100101001011101110000011111100110001000100011011110001110101110011101001110011011011111100110111000001110011011100010111100100001011001101101111110011011100000010011111110011100111010011011111011110000100001100011111010011101001000010011011110011111100111001100011111100110100010000101011110000111010111111100111001000111111001000111111001101001010101010110010111101101001111110100111010010000101111011101001100110001111110011010010100111111001110100111010100101111011111000010110011110110110011011110011111011000110101011001011100011110110001110101100000110100111110111000101100111101101001101111000110111101011100111010001110011010011110111001011011010001001101011111100111001000110110010111001001110100011100110100111101110010110110100010011010111111001110010001101100101110011100100011101111010101111000001100010011111011111110011110100010011110110011100110101011100001110011111111100001100111000110101011000001111110011000100111010101111011000100101011000001101101011101010100010010101111011000110011101000100011010001011000001111110011000100100001001010110111000100111101100111100100111111101001101110010001111001111111110100101001100100011110011101011110111111000101110010011101001001110001010111110110101001101110000011100010110101011010101110110011111011001000011000100001110100101000010100110101011010100110100111110111000101101001010000011110110001000011100010110010100001101001110100111001101101111110011011100000111001101010111000011101010100001110011011100100001011001101101111110011011100000010001010111111101001101110011001100010110100101011001010000110111001000101110010001011001110011001011100100111010100101111011111000010110011110110110011011110011111011001000001001101101101000110111100010101110001101110100010111000110100101001111110101001111110011000100010001101111000111010111000110000010001101011110111110111100001100010000110100100101001101010111000100111111100110001000110000001001101011111100111000110011101000110101011100001001110111000001001101101101000110001000011101001010000111101011101110010001100111010001111010111100010011111110011000111001000110001011101011100111001100011111100110100010000101111000100111011100000100110110110100111010110101011011111110111111100111101000111111001101001100110101011011001001111111110000110011100011010101100000111111001100010010000100101011011100111111001111101111111001111010011111100100011111100110100110011010111000100000000110001000011010010001010100001110011111100110001000111101100011001110100010001110001101110100111010001110011010011110111001011011010001001101011111100111001000110110010111001001110100011100110100111101110010110110100010011010111111001110010001101100101110010001100010011111011111110011110100010011110110011100110101011100001110011111111100001100111000110101011000001111110011000100111010101111011000100101011000001101101011101010100010010101111011000110011101000100011010001011000001111110011000100100001001010110111000100111101100111100100111111101001101110010001111001111111110100101001100100011110011101011110111111000101110010011101010111101100111101011101011101000011111111100010101010101111111001011111011100110010100111111000001101000111111001101000110111111100110001111100010110100010001100110101101110111110111000010001101001111111011111000111010010101011111111000111011000111010110100110111110001011010001001110111101111100111110111000110011010111101111001000100011100010110110100011001101011011100100111011010100110111000001100111111111010001100000010000010110010001000110100111011110010000100111101100010001110001111111011001110011111100011101000111001101001111011100101101101000100110101111110011100100011011001011100100111010001110011010011110111001011011010001001101011111100111001000110110010111001000110001000011101001010000010001010101000011010011111011100011011111101111110000010100100011100011111100100011000100001101001001001110110101001101110000010001111111010100111111001100010011111100100111010110100100011011111101111110000011111100110100111101110010110110100011000100001110100101000001111011101010100011111100110100011001111111010010100000110001000011101001010000101110101001101110001000001111110100101000001100000111000101101010011010001111011000100011111110011100110001111110011010001101111111010010100000111101100010000010111000110001110110010111001001110101101001000110111111011111100000111111001101001111011100101101101001000010101110010110110100100001010111001011011010001001101011111100111001000110110010111001110010001000110110010111001110010001000110110010111001110010001000110110010111001110010001000110110010111001110010001000110110010111001110010001000110110010111001110010001000110110010111001'"
      ]
     },
     "execution_count": 24,
     "metadata": {},
     "output_type": "execute_result"
    }
   ],
   "source": [
    "encoded_text = encode_text(text, mi_clave)\n",
    "encoded_text"
   ]
  },
  {
   "cell_type": "code",
   "execution_count": 25,
   "metadata": {},
   "outputs": [
    {
     "data": {
      "text/plain": [
       "\"Empty spaces, what are we living for? Abandoned places, I guess we know the score, on and on Does anybody know what we are looking for? Another hero, another mindless crime Behind the curtain, in the pantomime Hold the line Does anybody want to take it anymore? The show must go on The show must go on, yeah Inside my heart is breaking My makeup may be flaking But my smile, still, stays on Whatever happens, I'll leave it all to chance Another heartache, another failed romance, on and on Does anybody know what we are living for? I guess I'm learning I must be warmer now I'll soon be turning, round the corner now Outside the dawn is breaking But inside in the dark I'm aching to be free The show must go on The show must go on Inside my heart is breaking My makeup may be flaking But my smile, still, stays on My soul is painted like the wings of butterflies Fairy tales of yesterday, grow but never die I can fly, my friends The show must go on The show must go on I'll face it with a grin I'm never giving in On with the show I'll top the bill I'll overkill I have to find the will to carry on On with the show Show Show must go on, go on, go on, go on, go on, go on, go on, go on\""
      ]
     },
     "execution_count": 25,
     "metadata": {},
     "output_type": "execute_result"
    }
   ],
   "source": [
    "decoding(encoded_text, my_tree)"
   ]
  },
  {
   "cell_type": "markdown",
   "metadata": {},
   "source": [
    "## Check if my by-hand decoding is equal to the script's decoded string"
   ]
  },
  {
   "cell_type": "code",
   "execution_count": 26,
   "metadata": {},
   "outputs": [
    {
     "data": {
      "text/plain": [
       "True"
      ]
     },
     "execution_count": 26,
     "metadata": {},
     "output_type": "execute_result"
    }
   ],
   "source": [
    "decoding(encode_text(text,code), tree)==decoding(encode_text(text,mi_clave), my_tree)"
   ]
  },
  {
   "cell_type": "code",
   "execution_count": 27,
   "metadata": {},
   "outputs": [
    {
     "data": {
      "text/plain": [
       "True"
      ]
     },
     "execution_count": 27,
     "metadata": {},
     "output_type": "execute_result"
    }
   ],
   "source": [
    "text==decoding(encode_text(text,code), tree) "
   ]
  },
  {
   "cell_type": "code",
   "execution_count": 28,
   "metadata": {},
   "outputs": [
    {
     "data": {
      "text/plain": [
       "True"
      ]
     },
     "execution_count": 28,
     "metadata": {},
     "output_type": "execute_result"
    }
   ],
   "source": [
    "text==decoding(encode_text(text,mi_clave), my_tree)"
   ]
  },
  {
   "cell_type": "markdown",
   "metadata": {},
   "source": [
    "## That means that both encoding methods, script and by-hand, were a success!"
   ]
  }
 ],
 "metadata": {
  "kernelspec": {
   "display_name": "Python 3",
   "language": "python",
   "name": "python3"
  },
  "language_info": {
   "codemirror_mode": {
    "name": "ipython",
    "version": 3
   },
   "file_extension": ".py",
   "mimetype": "text/x-python",
   "name": "python",
   "nbconvert_exporter": "python",
   "pygments_lexer": "ipython3",
   "version": "3.7.1"
  }
 },
 "nbformat": 4,
 "nbformat_minor": 2
}
